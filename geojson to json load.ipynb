{
 "cells": [
  {
   "cell_type": "code",
   "execution_count": null,
   "metadata": {},
   "outputs": [],
   "source": [
    "import json\n",
    "from pprint import pprint\n",
    "\n",
    "# Specify the path to the JSON file\n",
    "json_file_path = '/Users/srinivasjayaram1987/Desktop/Data_Analytics/Project_3/Break_and_Enter_Open_Data.geojson'\n",
    "\n",
    "# Load JSON data from file\n",
    "with open(json_file_path, 'r') as json_file:\n",
    "    json_data = json.load(json_file)\n",
    "\n",
    "# Pretty-print the JSON data\n",
    "pprint(json_data)"
   ]
  }
 ],
 "metadata": {
  "language_info": {
   "name": "python"
  },
  "orig_nbformat": 4
 },
 "nbformat": 4,
 "nbformat_minor": 2
}
