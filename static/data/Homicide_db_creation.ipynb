{
 "cells": [
  {
   "cell_type": "code",
   "execution_count": 36,
   "metadata": {},
   "outputs": [],
   "source": [
    "from sqlalchemy import create_engine, Column, Integer, String, Date\n",
    "from sqlalchemy.orm import declarative_base ,sessionmaker\n",
    "import csv\n",
    "from datetime import datetime"
   ]
  },
  {
   "cell_type": "code",
   "execution_count": 37,
   "metadata": {},
   "outputs": [],
   "source": [
    "Base = declarative_base()\n",
    "\n",
    "class HomiData(Base):\n",
    "    __tablename__ = 'Homicide_data'\n",
    "\n",
    "    Id = Column(Integer, primary_key=True)\n",
    "    Event_unique_id = Column(String)\n",
    "    date = Column(Date)\n",
    "    Year = Column(Integer)\n",
    "    Month = Column(String)\n",
    "    Day = Column(Integer)\n",
    "    DOW = Column(String)\n",
    "    Homicide_type = Column(String)\n",
    "    Neighbourhood = Column(String)\n"
   ]
  },
  {
   "cell_type": "code",
   "execution_count": 38,
   "metadata": {},
   "outputs": [],
   "source": [
    "database_path = 'sqlite:///homi_data.db'\n",
    "engine = create_engine(database_path)\n",
    "Base.metadata.create_all(engine)"
   ]
  },
  {
   "cell_type": "code",
   "execution_count": 39,
   "metadata": {},
   "outputs": [],
   "source": [
    "Session = sessionmaker(bind=engine)\n",
    "session = Session()\n",
    "\n",
    "with open('Homicide_data.csv', 'r') as file:\n",
    "    csv_reader = csv.DictReader(file)\n",
    "    for row in csv_reader:\n",
    "        # Adjust the date format to 'YYYY.MM.DD'\n",
    "        date_str = row['OCC_DATE']\n",
    "        date_format = '%Y.%m.%d'  # Updated date format\n",
    "        date_obj = datetime.strptime(date_str, date_format).date()\n",
    "\n",
    "        homi_data = HomiData(\n",
    "            Event_unique_id=row['EVENT_UNIQUE_ID'],\n",
    "            date=date_obj,  # Use the parsed date object\n",
    "            Year=int(row['OCC_YEAR']),\n",
    "            Month=row['OCC_MONTH'],\n",
    "            Day=int(row['OCC_DAY']),\n",
    "            DOW=row['OCC_DOW'],\n",
    "            Homicide_type=row['HOMICIDE_TYPE'],\n",
    "            Neighbourhood=row['NEIGHBOURHOOD_158']\n",
    "        )\n",
    "        session.add(homi_data)\n",
    "\n",
    "session.commit()\n",
    "session.close()"
   ]
  }
 ],
 "metadata": {
  "kernelspec": {
   "display_name": "Python 3",
   "language": "python",
   "name": "python3"
  },
  "language_info": {
   "codemirror_mode": {
    "name": "ipython",
    "version": 3
   },
   "file_extension": ".py",
   "mimetype": "text/x-python",
   "name": "python",
   "nbconvert_exporter": "python",
   "pygments_lexer": "ipython3",
   "version": "3.11.2"
  },
  "orig_nbformat": 4
 },
 "nbformat": 4,
 "nbformat_minor": 2
}
