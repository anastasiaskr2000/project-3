{
 "cells": [
  {
   "cell_type": "code",
   "execution_count": 5,
   "metadata": {},
   "outputs": [],
   "source": [
    "from sqlalchemy import create_engine, Column, Integer, String, Date\n",
    "from sqlalchemy.orm import declarative_base ,sessionmaker\n",
    "import csv\n",
    "from datetime import datetime"
   ]
  },
  {
   "cell_type": "code",
   "execution_count": 6,
   "metadata": {},
   "outputs": [],
   "source": [
    "Base = declarative_base()\n",
    "\n",
    "class CrimeData(Base):\n",
    "    __tablename__ = 'crime_data'\n",
    "\n",
    "    id = Column(Integer, primary_key=True)\n",
    "    X = Column(String)\n",
    "    Y = Column(String)\n",
    "    OBJECTID = Column(Integer)\n",
    "    EVENT_UNIQUE_ID = Column(String)\n",
    "    REPORT_DATE = Column(Date)\n",
    "    OCC_DATE = Column(Date)\n",
    "    OCC_YEAR = Column(Integer)\n",
    "    OCC_MONTH = Column(Integer)\n",
    "    OCC_HOUR = Column(Integer)\n",
    "    DIVISION = Column(String)\n",
    "    LOCATION_TYPE = Column(String)\n",
    "    PREMISES_TYPE = Column(String)\n",
    "    OFFENCE = Column(String)\n",
    "    MCI_CATEGORY = Column(String)\n",
    "    HOOD_158 = Column(Integer)\n",
    "    NEIGHBOURHOOD_158 = Column(String)\n",
    "    HOOD_140 = Column(Integer)\n",
    "    NEIGHBOURHOOD_140 = Column(String)\n"
   ]
  },
  {
   "cell_type": "code",
   "execution_count": 7,
   "metadata": {},
   "outputs": [],
   "source": [
    "database_path = 'sqlite:///crime_data.db'\n",
    "engine = create_engine(database_path)\n",
    "Base.metadata.create_all(engine)"
   ]
  },
  {
   "cell_type": "code",
   "execution_count": 8,
   "metadata": {},
   "outputs": [],
   "source": [
    "Session = sessionmaker(bind=engine)\n",
    "session = Session()\n",
    "\n",
    "with open('../Project_3/Modified_major_crime.csv', 'r') as file:\n",
    "    csv_reader = csv.DictReader(file)\n",
    "    for row in csv_reader:\n",
    "        crime_data = CrimeData(\n",
    "            X=row['X'],\n",
    "            Y=row['Y'],\n",
    "            OBJECTID=row['OBJECTID'],\n",
    "            EVENT_UNIQUE_ID=row['EVENT_UNIQUE_ID'],\n",
    "            REPORT_DATE= datetime.strptime(row['REPORT_DATE'], '%Y-%m-%d'),\n",
    "            OCC_DATE= datetime.strptime(row['OCC_DATE'], '%Y-%m-%d'),\n",
    "            OCC_YEAR=row['OCC_YEAR'],\n",
    "            OCC_MONTH=row['OCC_MONTH'],\n",
    "            OCC_HOUR=row['OCC_HOUR'],\n",
    "            DIVISION=row['DIVISION'],\n",
    "            LOCATION_TYPE=row['LOCATION_TYPE'],\n",
    "            PREMISES_TYPE=row['PREMISES_TYPE'],\n",
    "            OFFENCE=row['OFFENCE'],\n",
    "            MCI_CATEGORY=row['MCI_CATEGORY'],\n",
    "            HOOD_158=row['HOOD_158'],\n",
    "            NEIGHBOURHOOD_158=row['NEIGHBOURHOOD_158'],\n",
    "            HOOD_140=row['HOOD_140'],\n",
    "            NEIGHBOURHOOD_140=row['NEIGHBOURHOOD_140']\n",
    "        )\n",
    "        session.add(crime_data)\n",
    "\n",
    "session.commit()\n",
    "session.close()"
   ]
  }
 ],
 "metadata": {
  "kernelspec": {
   "display_name": "Python 3",
   "language": "python",
   "name": "python3"
  },
  "language_info": {
   "codemirror_mode": {
    "name": "ipython",
    "version": 3
   },
   "file_extension": ".py",
   "mimetype": "text/x-python",
   "name": "python",
   "nbconvert_exporter": "python",
   "pygments_lexer": "ipython3",
   "version": "3.11.2"
  },
  "orig_nbformat": 4
 },
 "nbformat": 4,
 "nbformat_minor": 2
}
